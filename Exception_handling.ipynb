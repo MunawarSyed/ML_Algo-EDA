{
 "cells": [
  {
   "cell_type": "code",
   "execution_count": 10,
   "metadata": {
    "colab": {
     "base_uri": "https://localhost:8080/",
     "height": 34
    },
    "colab_type": "code",
    "id": "xi-xLo5YR90q",
    "outputId": "3440501a-068f-4aab-dc1f-bd664ff7e3a4"
   },
   "outputs": [
    {
     "name": "stdout",
     "output_type": "stream",
     "text": [
      "division by zero\n"
     ]
    }
   ],
   "source": [
    "\"\"\"\n",
    "1. Write a function to compute 5/0 and use try/except to catch the exceptions.\n",
    "\"\"\"\n",
    "def func():\n",
    "  return 5/0\n",
    "\n",
    "try:\n",
    "  func()\n",
    "except Exception as e:\n",
    " print(e)"
   ]
  },
  {
   "cell_type": "code",
   "execution_count": 1,
   "metadata": {
    "colab": {
     "base_uri": "https://localhost:8080/",
     "height": 153
    },
    "colab_type": "code",
    "id": "rXRoTTDjR350",
    "outputId": "c174d565-ac72-4529-bd36-d61fe4c891bc"
   },
   "outputs": [
    {
     "name": "stdout",
     "output_type": "stream",
     "text": [
      "Americans Play Baseball\n",
      "Americans Play cricket\n",
      "Americans watch Baseball\n",
      "Americans watch cricket\n",
      "Indians Play Baseball\n",
      "Indians Play cricket\n",
      "Indians watch Baseball\n",
      "Indians watch cricket\n"
     ]
    }
   ],
   "source": [
    "\"\"\"\n",
    "2. Implement a Python program to generate all sentences where subject is in\n",
    "[\"Americans\", \"Indians\"] and verb is in [\"Play\", \"watch\"] and the object is in\n",
    "[\"Baseball\",\"cricket\"].\n",
    "\n",
    "\"\"\"\n",
    "subject=[\"Americans\", \"Indians\"]\n",
    "verb=[\"Play\", \"watch\"]\n",
    "obj=[\"Baseball\",\"cricket\"]\n",
    "\n",
    "sentence_list = [(sub+\" \"+ vb + \" \" + ob) for sub in subject for vb in verb for ob in obj]\n",
    "for sentence in sentence_list:\n",
    " print (sentence)"
   ]
  }
 ],
 "metadata": {
  "colab": {
   "collapsed_sections": [],
   "name": "Exception handling Assignment.ipynb",
   "provenance": []
  },
  "kernelspec": {
   "display_name": "Python 3",
   "language": "python",
   "name": "python3"
  },
  "language_info": {
   "codemirror_mode": {
    "name": "ipython",
    "version": 3
   },
   "file_extension": ".py",
   "mimetype": "text/x-python",
   "name": "python",
   "nbconvert_exporter": "python",
   "pygments_lexer": "ipython3",
   "version": "3.8.3"
  }
 },
 "nbformat": 4,
 "nbformat_minor": 1
}
